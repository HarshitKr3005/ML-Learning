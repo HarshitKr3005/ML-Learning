{
 "cells": [
  {
   "cell_type": "code",
   "execution_count": 8,
   "id": "2cfaf9bb",
   "metadata": {},
   "outputs": [
    {
     "name": "stdout",
     "output_type": "stream",
     "text": [
      "Train Score:  0.9501847627493607\n",
      "Test Score:  0.9347068473282446\n"
     ]
    }
   ],
   "source": [
    "import numpy as np\n",
    "import matplotlib.pyplot as mtp  \n",
    "import pandas as pd  \n",
    "  \n",
    " \n",
    "file_path = r'C:\\Users\\harsh\\Desktop\\Machine Learning\\50_Startups.csv'\n",
    "data_set = pd.read_csv(file_path)\n",
    "   \n",
    "x= data_set.iloc[:, :-1].values  \n",
    "y= data_set.iloc[:, 4].values  \n",
    "  \n",
    "from sklearn.preprocessing import LabelEncoder, OneHotEncoder\n",
    "from sklearn.compose import ColumnTransformer\n",
    "\n",
    "labelencoder_x = LabelEncoder()\n",
    "x[:,3] = labelencoder_x.fit_transform(x[:,3])\n",
    "ct = ColumnTransformer(transformers=[('encoder', OneHotEncoder(), [3])], remainder='passthrough')\n",
    "x = ct.fit_transform(x)\n",
    "  \n",
    "  \n",
    "x = x[:, 1:]  \n",
    "  \n",
    "  \n",
    " \n",
    "from sklearn.model_selection import train_test_split  \n",
    "x_train, x_test, y_train, y_test= train_test_split(x, y, test_size= 0.2, random_state=0)  \n",
    "  \n",
    " \n",
    "from sklearn.linear_model import LinearRegression  \n",
    "regressor= LinearRegression()  \n",
    "regressor.fit(x_train, y_train)  \n",
    "  \n",
    "\n",
    "y_pred= regressor.predict(x_test)  \n",
    "  \n",
    " \n",
    "print('Train Score: ', regressor.score(x_train, y_train))  \n",
    "print('Test Score: ', regressor.score(x_test, y_test))  "
   ]
  },
  {
   "cell_type": "code",
   "execution_count": 18,
   "id": "4c7a9c19",
   "metadata": {},
   "outputs": [],
   "source": [
    "import statsmodels.api as sm"
   ]
  },
  {
   "cell_type": "code",
   "execution_count": 19,
   "id": "90f6936b",
   "metadata": {},
   "outputs": [],
   "source": [
    "x = np.append(arr = np.ones((50, 1)).astype(int), values = x, axis = 1)\n"
   ]
  },
  {
   "cell_type": "code",
   "execution_count": null,
   "id": "81aa9b63",
   "metadata": {},
   "outputs": [],
   "source": [
    "x_opt=x [:, [0,1,2,3,4,5]]  \n",
    "regressor_OLS=sm.OLS(endog = y, exog=x_opt).fit()  \n",
    "regressor_OLS.summary()  "
   ]
  },
  {
   "cell_type": "code",
   "execution_count": null,
   "id": "5f09e3a4",
   "metadata": {},
   "outputs": [],
   "source": [
    "x_opt=x[:, [0,2,3,4,5]]  \n",
    "regressor_OLS=sm.OLS(endog = y, exog=x_opt).fit()  \n",
    "regressor_OLS.summary()  "
   ]
  },
  {
   "cell_type": "code",
   "execution_count": null,
   "id": "d3793b94",
   "metadata": {},
   "outputs": [],
   "source": [
    "x_opt= x[:, [0,3,4,5]]  \n",
    "regressor_OLS=sm.OLS(endog = y, exog=x_opt).fit()  \n",
    "regressor_OLS.summary()  "
   ]
  },
  {
   "cell_type": "code",
   "execution_count": null,
   "id": "5a5d7293",
   "metadata": {},
   "outputs": [],
   "source": [
    "x_opt=x[:, [0,3,5]]  \n",
    "regressor_OLS=sm.OLS(endog = y, exog=x_opt).fit()  \n",
    "regressor_OLS.summary()  "
   ]
  },
  {
   "cell_type": "code",
   "execution_count": null,
   "id": "1177d1bc",
   "metadata": {},
   "outputs": [],
   "source": [
    "x_opt=x[:, [0,3]]  \n",
    "regressor_OLS=sm.OLS(endog = y, exog=x_opt).fit()  \n",
    "regressor_OLS.summary()  "
   ]
  },
  {
   "cell_type": "code",
   "execution_count": null,
   "id": "5ffe3f2d",
   "metadata": {},
   "outputs": [],
   "source": [
    "x_BE= data_set.iloc[:, :-1].values  \n",
    "y_BE= data_set.iloc[:, 1].values  \n",
    "  \n",
    "from sklearn.model_selection import train_test_split  \n",
    "x_BE_train, x_BE_test, y_BE_train, y_BE_test= train_test_split(x_BE, y_BE, test_size= 0.2, random_state=0)  \n",
    "  \n",
    "  \n",
    "from sklearn.linear_model import LinearRegression  \n",
    "regressor= LinearRegression()  \n",
    "regressor.fit(nm.array(x_BE_train).reshape(-1,1), y_BE_train)  \n",
    "  \n",
    " \n",
    "y_pred= regressor.predict(x_BE_test)  \n",
    "  \n",
    " \n",
    "print('Train Score: ', regressor.score(x_BE_train, y_BE_train))  \n",
    "print('Test Score: ', regressor.score(x_BE_test, y_BE_test))  "
   ]
  },
  {
   "cell_type": "markdown",
   "id": "497dc067",
   "metadata": {},
   "source": [
    "Previously the difference between the train and test score were 0.0154 and after appyling backward elimination, it changes to 0.00149. So, it is very much close to the previous difference when we were using 4 independent variables, now we are using only one variable."
   ]
  }
 ],
 "metadata": {
  "kernelspec": {
   "display_name": "Python 3 (ipykernel)",
   "language": "python",
   "name": "python3"
  },
  "language_info": {
   "codemirror_mode": {
    "name": "ipython",
    "version": 3
   },
   "file_extension": ".py",
   "mimetype": "text/x-python",
   "name": "python",
   "nbconvert_exporter": "python",
   "pygments_lexer": "ipython3",
   "version": "3.9.13"
  }
 },
 "nbformat": 4,
 "nbformat_minor": 5
}
